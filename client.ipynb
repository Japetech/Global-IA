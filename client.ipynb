{
 "cells": [
  {
   "cell_type": "code",
   "execution_count": null,
   "metadata": {},
   "outputs": [],
   "source": [
    "import requests\n",
    "\n",
    "url = 'http://localhost:5000/api/predict'\n",
    "image_path = 'apple_good.jpg'\n",
    "# files = {'image': open('apple_good.jpg', 'rb')}\n",
    "with open(image_path, 'rb') as image_file:\n",
    "    files = {'image': image_file}\n",
    "    response = requests.post(url, files=files)"
   ]
  },
  {
   "cell_type": "code",
   "execution_count": 2,
   "metadata": {},
   "outputs": [
    {
     "name": "stdout",
     "output_type": "stream",
     "text": [
      "Predicted class: Rotten fruit\n",
      "Confidence: 1.0\n"
     ]
    }
   ],
   "source": [
    "import requests\n",
    "import numpy as np\n",
    "from PIL import Image\n",
    "\n",
    "def predict_fruit(image_path):\n",
    "    url = 'http://127.0.0.1:5000/api/predict'\n",
    "    image = Image.open(image_path)\n",
    "    resized_image = image.resize((100, 100))\n",
    "    image_array = np.array(resized_image) / 255.0\n",
    "    payload = {'image': image_array.tolist()}\n",
    "\n",
    "    response = requests.post(url, json=payload)\n",
    "\n",
    "    if response.status_code == 200:\n",
    "        result = response.json()\n",
    "        predicted_class = result['class']\n",
    "        confidence = result['confidence']\n",
    "        print('Predicted class:', predicted_class)\n",
    "        print('Confidence:', confidence)\n",
    "    else:\n",
    "        print('Error:', response.json())\n",
    "\n",
    "# Example usage\n",
    "image_path = 'apple_bad.jpg'\n",
    "predict_fruit(image_path)\n"
   ]
  }
 ],
 "metadata": {
  "kernelspec": {
   "display_name": "GlobalSolution",
   "language": "python",
   "name": "python3"
  },
  "language_info": {
   "codemirror_mode": {
    "name": "ipython",
    "version": 3
   },
   "file_extension": ".py",
   "mimetype": "text/x-python",
   "name": "python",
   "nbconvert_exporter": "python",
   "pygments_lexer": "ipython3",
   "version": "3.9.10"
  },
  "orig_nbformat": 4
 },
 "nbformat": 4,
 "nbformat_minor": 2
}
